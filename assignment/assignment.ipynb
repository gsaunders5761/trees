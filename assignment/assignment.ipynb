{
 "cells": [
  {
   "cell_type": "markdown",
   "metadata": {},
   "source": [
    "# Assignment: Trees\n",
    "Do three questions."
   ]
  },
  {
   "cell_type": "code",
   "execution_count": 86,
   "metadata": {},
   "outputs": [],
   "source": [
    "import numpy as np\n",
    "import pandas as pd\n",
    "import seaborn as sns"
   ]
  },
  {
   "cell_type": "markdown",
   "metadata": {},
   "source": [
    "**Q1.** Please answer the following questions in your own words.\n",
    "\n",
    "1. How are trees constructed?\n"
   ]
  },
  {
   "cell_type": "markdown",
   "metadata": {},
   "source": [
    "Trees are \"grown\" by splitting the data based on certain characteristics or variables with certain cut off points then evaluating how effective the split was at dividing the data into useful groups where the data within each group is similar (i.e. most pure). "
   ]
  },
  {
   "cell_type": "markdown",
   "metadata": {},
   "source": [
    "\n",
    "2. How do trees handle non-linear relationships between variables? Compare this to linear models. "
   ]
  },
  {
   "cell_type": "markdown",
   "metadata": {},
   "source": [
    "Trees naturally represent non-linear relationships through hierarchical splits, and interactions are automatically captured since each subsequent split is dependent upon the higher level ones, whereas linear models assume a linear relationship and require feature engineering (ie polynomial or interaction terms) in order to model more complex relationships. "
   ]
  },
  {
   "cell_type": "markdown",
   "metadata": {},
   "source": [
    "\n",
    "3. Why is the Gini a good loss function for categorical target variables? \n"
   ]
  },
  {
   "cell_type": "markdown",
   "metadata": {},
   "source": [
    "Gini is a good measure of impurity within splits, and comparing the Gini coefficient of various trial splits allows the tree to maximize purity effectively. Its advantages include simplicity (and speed), and its sensitivity to the data helps with overall model accuracy (it will prioritize splits that separate off the largest class)."
   ]
  },
  {
   "cell_type": "markdown",
   "metadata": {},
   "source": [
    "\n",
    "4. Why do trees tend to overfit, and how can this tendency be constrained? \n"
   ]
  },
  {
   "cell_type": "markdown",
   "metadata": {},
   "source": [
    "The basic structure of trees (i.e. hierarchical, recursive partitioning) is a greedy algorithm, which is prone to overfitting - their instability means that they will chase noise in order to make the terminal node classes as pure as possible unless constrained. There are multiple regularization/early stopping rules that can help prevent the tree from overfitting, such as limiting depth, terminal node purity, and terminal node size. "
   ]
  },
  {
   "cell_type": "markdown",
   "metadata": {},
   "source": [
    "\n",
    "5. True or false, and explain: Trees only really perform well in situations with lots of categorical variables as features/covariates. \n"
   ]
  },
  {
   "cell_type": "markdown",
   "metadata": {},
   "source": [
    "This is false - they are well suited to categorical variables, but you can still use a continuous variable and choose a cut off point of where to split by comparing SSE or MSSE."
   ]
  },
  {
   "cell_type": "markdown",
   "metadata": {},
   "source": [
    "\n",
    "6. Why don't most versions of classification/regression tree concept allow for more than two branches after a split?\n"
   ]
  },
  {
   "cell_type": "markdown",
   "metadata": {},
   "source": [
    "Because the algorithm is already greedy in the depth dimension, I think adding an extra dimension of options like \"width\" (letting it split into more than two branches) would increase the tendency to overfit and chase noise already identified in a previous question. "
   ]
  },
  {
   "cell_type": "markdown",
   "metadata": {},
   "source": [
    "\n",
    "7. What are some heuristic ways you can examine a tree and decide whether it is probably over- or under-fitting?"
   ]
  },
  {
   "cell_type": "markdown",
   "metadata": {},
   "source": [
    "The tree is probably overfitting if it is very deep (lots of levels), especially if some of the splits do not make sense given the nature of the variables/intuitively don't seem predictive and/or it has very small terminal nodes where it is attempting to split off 1-2 instances to maximize purity. Significant gaps in performance between training and test data also can indicate overfitting because it is too sensitive to the specifics of the training data rather than identifying replicable patterns. It is probably underfitting if it is very shallow (only a few levels) and the terminal levels still have high impurity (i.e. gini) and it is not very accurate on the training data. "
   ]
  },
  {
   "cell_type": "markdown",
   "metadata": {},
   "source": [
    "**Q2.** This is a case study on regression and classification trees.\n",
    "\n",
    "1. Load `./data/cars_hw.csv`. How many observations and features/covariates/variables? What are the available variables? Take a look at the first few rows of data.\n",
    "\n",
    "2. For the categorical variables `Make`, `Color`, `Body_type`, `No_of_Owners`, `Fuel_Type`, `Transmission`, and `Transmission_Type`, create dummy/one-hot-encoded representations. For numeric variables, we'll use `Mileage_Run`, `Make_Year`, and `Seating_Capacity`. Our target variable will be `Price`. Make a train-test split of your data.\n",
    "\n",
    "3. From `sklearn.tree`, import the `DecisionTreeRegressor` and `plot_tree`. Use a train-test split to iterate over possible values for `min_samples_leaf`, computing the $R^2$ for each value between 1 and 25. What choice achieves the highest $R^2$ on the test data?\n",
    "\n",
    "4. For the optimal `min_samples_leaf` from 3, regress price on the rest of the features/covariates using the training data. What is your $R^2$ and RMSE on the test set? Plot the dendrogram. Plot the residuals. Is the density of residuals symmetric and centered around 0?\n",
    "\n",
    "4. Run a linear regression of price on the same variables. Which model -- regression tree or linear regression -- performs better on the test set? Why?\n",
    "\n",
    "5. Predict prices using both your tree and your linear model, and make a scatter plot of their values. Describe what you see. "
   ]
  },
  {
   "cell_type": "markdown",
   "metadata": {},
   "source": [
    "**Q3.** This is a case study about classification and regression trees.\n",
    "\n",
    "1. Load the `Breast Cancer METABRIC.csv` dataset. How many observations and variables does it contain? Print out the first few rows of data."
   ]
  },
  {
   "cell_type": "code",
   "execution_count": 87,
   "metadata": {},
   "outputs": [
    {
     "data": {
      "application/vnd.microsoft.datawrangler.viewer.v0+json": {
       "columns": [
        {
         "name": "index",
         "rawType": "int64",
         "type": "integer"
        },
        {
         "name": "Patient ID",
         "rawType": "object",
         "type": "string"
        },
        {
         "name": "Age at Diagnosis",
         "rawType": "float64",
         "type": "float"
        },
        {
         "name": "Type of Breast Surgery",
         "rawType": "object",
         "type": "string"
        },
        {
         "name": "Cancer Type",
         "rawType": "object",
         "type": "string"
        },
        {
         "name": "Cancer Type Detailed",
         "rawType": "object",
         "type": "string"
        },
        {
         "name": "Cellularity",
         "rawType": "object",
         "type": "unknown"
        },
        {
         "name": "Chemotherapy",
         "rawType": "object",
         "type": "string"
        },
        {
         "name": "Pam50 + Claudin-low subtype",
         "rawType": "object",
         "type": "string"
        },
        {
         "name": "Cohort",
         "rawType": "float64",
         "type": "float"
        },
        {
         "name": "ER status measured by IHC",
         "rawType": "object",
         "type": "string"
        },
        {
         "name": "ER Status",
         "rawType": "object",
         "type": "string"
        },
        {
         "name": "Neoplasm Histologic Grade",
         "rawType": "float64",
         "type": "float"
        },
        {
         "name": "HER2 status measured by SNP6",
         "rawType": "object",
         "type": "string"
        },
        {
         "name": "HER2 Status",
         "rawType": "object",
         "type": "string"
        },
        {
         "name": "Tumor Other Histologic Subtype",
         "rawType": "object",
         "type": "string"
        },
        {
         "name": "Hormone Therapy",
         "rawType": "object",
         "type": "string"
        },
        {
         "name": "Inferred Menopausal State",
         "rawType": "object",
         "type": "string"
        },
        {
         "name": "Integrative Cluster",
         "rawType": "object",
         "type": "string"
        },
        {
         "name": "Primary Tumor Laterality",
         "rawType": "object",
         "type": "string"
        },
        {
         "name": "Lymph nodes examined positive",
         "rawType": "float64",
         "type": "float"
        },
        {
         "name": "Mutation Count",
         "rawType": "float64",
         "type": "float"
        },
        {
         "name": "Nottingham prognostic index",
         "rawType": "float64",
         "type": "float"
        },
        {
         "name": "Oncotree Code",
         "rawType": "object",
         "type": "string"
        },
        {
         "name": "Overall Survival (Months)",
         "rawType": "float64",
         "type": "float"
        },
        {
         "name": "Overall Survival Status",
         "rawType": "object",
         "type": "string"
        },
        {
         "name": "PR Status",
         "rawType": "object",
         "type": "string"
        },
        {
         "name": "Radio Therapy",
         "rawType": "object",
         "type": "string"
        },
        {
         "name": "Relapse Free Status (Months)",
         "rawType": "float64",
         "type": "float"
        },
        {
         "name": "Relapse Free Status",
         "rawType": "object",
         "type": "string"
        },
        {
         "name": "Sex",
         "rawType": "object",
         "type": "string"
        },
        {
         "name": "3-Gene classifier subtype",
         "rawType": "object",
         "type": "unknown"
        },
        {
         "name": "Tumor Size",
         "rawType": "float64",
         "type": "float"
        },
        {
         "name": "Tumor Stage",
         "rawType": "float64",
         "type": "float"
        },
        {
         "name": "Patient's Vital Status",
         "rawType": "object",
         "type": "string"
        }
       ],
       "conversionMethod": "pd.DataFrame",
       "ref": "6a80379b-dec6-4de8-a8ec-fcd2002bf544",
       "rows": [
        [
         "0",
         "MB-0000",
         "75.65",
         "Mastectomy",
         "Breast Cancer",
         "Breast Invasive Ductal Carcinoma",
         null,
         "No",
         "claudin-low",
         "1.0",
         "Positve",
         "Positive",
         "3.0",
         "Neutral",
         "Negative",
         "Ductal/NST",
         "Yes",
         "Post",
         "4ER+",
         "Right",
         "10.0",
         null,
         "6.044",
         "IDC",
         "140.5",
         "Living",
         "Negative",
         "Yes",
         "138.65",
         "Not Recurred",
         "Female",
         "ER-/HER2-",
         "22.0",
         "2.0",
         "Living"
        ],
        [
         "1",
         "MB-0002",
         "43.19",
         "Breast Conserving",
         "Breast Cancer",
         "Breast Invasive Ductal Carcinoma",
         "High",
         "No",
         "LumA",
         "1.0",
         "Positve",
         "Positive",
         "3.0",
         "Neutral",
         "Negative",
         "Ductal/NST",
         "Yes",
         "Pre",
         "4ER+",
         "Right",
         "0.0",
         "2.0",
         "4.02",
         "IDC",
         "84.63333333",
         "Living",
         "Positive",
         "Yes",
         "83.52",
         "Not Recurred",
         "Female",
         "ER+/HER2- High Prolif",
         "10.0",
         "1.0",
         "Living"
        ],
        [
         "2",
         "MB-0005",
         "48.87",
         "Mastectomy",
         "Breast Cancer",
         "Breast Invasive Ductal Carcinoma",
         "High",
         "Yes",
         "LumB",
         "1.0",
         "Positve",
         "Positive",
         "2.0",
         "Neutral",
         "Negative",
         "Ductal/NST",
         "Yes",
         "Pre",
         "3",
         "Right",
         "1.0",
         "2.0",
         "4.03",
         "IDC",
         "163.7",
         "Deceased",
         "Positive",
         "No",
         "151.28",
         "Recurred",
         "Female",
         null,
         "15.0",
         "2.0",
         "Died of Disease"
        ],
        [
         "3",
         "MB-0006",
         "47.68",
         "Mastectomy",
         "Breast Cancer",
         "Breast Mixed Ductal and Lobular Carcinoma",
         "Moderate",
         "Yes",
         "LumB",
         "1.0",
         "Positve",
         "Positive",
         "2.0",
         "Neutral",
         "Negative",
         "Mixed",
         "Yes",
         "Pre",
         "9",
         "Right",
         "3.0",
         "1.0",
         "4.05",
         "MDLC",
         "164.93333330000002",
         "Living",
         "Positive",
         "Yes",
         "162.76",
         "Not Recurred",
         "Female",
         null,
         "25.0",
         "2.0",
         "Living"
        ],
        [
         "4",
         "MB-0008",
         "76.97",
         "Mastectomy",
         "Breast Cancer",
         "Breast Mixed Ductal and Lobular Carcinoma",
         "High",
         "Yes",
         "LumB",
         "1.0",
         "Positve",
         "Positive",
         "3.0",
         "Neutral",
         "Negative",
         "Mixed",
         "Yes",
         "Post",
         "9",
         "Right",
         "8.0",
         "2.0",
         "6.08",
         "MDLC",
         "41.36666667",
         "Deceased",
         "Positive",
         "Yes",
         "18.55",
         "Recurred",
         "Female",
         "ER+/HER2- High Prolif",
         "40.0",
         "2.0",
         "Died of Disease"
        ]
       ],
       "shape": {
        "columns": 34,
        "rows": 5
       }
      },
      "text/html": [
       "<div>\n",
       "<style scoped>\n",
       "    .dataframe tbody tr th:only-of-type {\n",
       "        vertical-align: middle;\n",
       "    }\n",
       "\n",
       "    .dataframe tbody tr th {\n",
       "        vertical-align: top;\n",
       "    }\n",
       "\n",
       "    .dataframe thead th {\n",
       "        text-align: right;\n",
       "    }\n",
       "</style>\n",
       "<table border=\"1\" class=\"dataframe\">\n",
       "  <thead>\n",
       "    <tr style=\"text-align: right;\">\n",
       "      <th></th>\n",
       "      <th>Patient ID</th>\n",
       "      <th>Age at Diagnosis</th>\n",
       "      <th>Type of Breast Surgery</th>\n",
       "      <th>Cancer Type</th>\n",
       "      <th>Cancer Type Detailed</th>\n",
       "      <th>Cellularity</th>\n",
       "      <th>Chemotherapy</th>\n",
       "      <th>Pam50 + Claudin-low subtype</th>\n",
       "      <th>Cohort</th>\n",
       "      <th>ER status measured by IHC</th>\n",
       "      <th>...</th>\n",
       "      <th>Overall Survival Status</th>\n",
       "      <th>PR Status</th>\n",
       "      <th>Radio Therapy</th>\n",
       "      <th>Relapse Free Status (Months)</th>\n",
       "      <th>Relapse Free Status</th>\n",
       "      <th>Sex</th>\n",
       "      <th>3-Gene classifier subtype</th>\n",
       "      <th>Tumor Size</th>\n",
       "      <th>Tumor Stage</th>\n",
       "      <th>Patient's Vital Status</th>\n",
       "    </tr>\n",
       "  </thead>\n",
       "  <tbody>\n",
       "    <tr>\n",
       "      <th>0</th>\n",
       "      <td>MB-0000</td>\n",
       "      <td>75.65</td>\n",
       "      <td>Mastectomy</td>\n",
       "      <td>Breast Cancer</td>\n",
       "      <td>Breast Invasive Ductal Carcinoma</td>\n",
       "      <td>NaN</td>\n",
       "      <td>No</td>\n",
       "      <td>claudin-low</td>\n",
       "      <td>1.0</td>\n",
       "      <td>Positve</td>\n",
       "      <td>...</td>\n",
       "      <td>Living</td>\n",
       "      <td>Negative</td>\n",
       "      <td>Yes</td>\n",
       "      <td>138.65</td>\n",
       "      <td>Not Recurred</td>\n",
       "      <td>Female</td>\n",
       "      <td>ER-/HER2-</td>\n",
       "      <td>22.0</td>\n",
       "      <td>2.0</td>\n",
       "      <td>Living</td>\n",
       "    </tr>\n",
       "    <tr>\n",
       "      <th>1</th>\n",
       "      <td>MB-0002</td>\n",
       "      <td>43.19</td>\n",
       "      <td>Breast Conserving</td>\n",
       "      <td>Breast Cancer</td>\n",
       "      <td>Breast Invasive Ductal Carcinoma</td>\n",
       "      <td>High</td>\n",
       "      <td>No</td>\n",
       "      <td>LumA</td>\n",
       "      <td>1.0</td>\n",
       "      <td>Positve</td>\n",
       "      <td>...</td>\n",
       "      <td>Living</td>\n",
       "      <td>Positive</td>\n",
       "      <td>Yes</td>\n",
       "      <td>83.52</td>\n",
       "      <td>Not Recurred</td>\n",
       "      <td>Female</td>\n",
       "      <td>ER+/HER2- High Prolif</td>\n",
       "      <td>10.0</td>\n",
       "      <td>1.0</td>\n",
       "      <td>Living</td>\n",
       "    </tr>\n",
       "    <tr>\n",
       "      <th>2</th>\n",
       "      <td>MB-0005</td>\n",
       "      <td>48.87</td>\n",
       "      <td>Mastectomy</td>\n",
       "      <td>Breast Cancer</td>\n",
       "      <td>Breast Invasive Ductal Carcinoma</td>\n",
       "      <td>High</td>\n",
       "      <td>Yes</td>\n",
       "      <td>LumB</td>\n",
       "      <td>1.0</td>\n",
       "      <td>Positve</td>\n",
       "      <td>...</td>\n",
       "      <td>Deceased</td>\n",
       "      <td>Positive</td>\n",
       "      <td>No</td>\n",
       "      <td>151.28</td>\n",
       "      <td>Recurred</td>\n",
       "      <td>Female</td>\n",
       "      <td>NaN</td>\n",
       "      <td>15.0</td>\n",
       "      <td>2.0</td>\n",
       "      <td>Died of Disease</td>\n",
       "    </tr>\n",
       "    <tr>\n",
       "      <th>3</th>\n",
       "      <td>MB-0006</td>\n",
       "      <td>47.68</td>\n",
       "      <td>Mastectomy</td>\n",
       "      <td>Breast Cancer</td>\n",
       "      <td>Breast Mixed Ductal and Lobular Carcinoma</td>\n",
       "      <td>Moderate</td>\n",
       "      <td>Yes</td>\n",
       "      <td>LumB</td>\n",
       "      <td>1.0</td>\n",
       "      <td>Positve</td>\n",
       "      <td>...</td>\n",
       "      <td>Living</td>\n",
       "      <td>Positive</td>\n",
       "      <td>Yes</td>\n",
       "      <td>162.76</td>\n",
       "      <td>Not Recurred</td>\n",
       "      <td>Female</td>\n",
       "      <td>NaN</td>\n",
       "      <td>25.0</td>\n",
       "      <td>2.0</td>\n",
       "      <td>Living</td>\n",
       "    </tr>\n",
       "    <tr>\n",
       "      <th>4</th>\n",
       "      <td>MB-0008</td>\n",
       "      <td>76.97</td>\n",
       "      <td>Mastectomy</td>\n",
       "      <td>Breast Cancer</td>\n",
       "      <td>Breast Mixed Ductal and Lobular Carcinoma</td>\n",
       "      <td>High</td>\n",
       "      <td>Yes</td>\n",
       "      <td>LumB</td>\n",
       "      <td>1.0</td>\n",
       "      <td>Positve</td>\n",
       "      <td>...</td>\n",
       "      <td>Deceased</td>\n",
       "      <td>Positive</td>\n",
       "      <td>Yes</td>\n",
       "      <td>18.55</td>\n",
       "      <td>Recurred</td>\n",
       "      <td>Female</td>\n",
       "      <td>ER+/HER2- High Prolif</td>\n",
       "      <td>40.0</td>\n",
       "      <td>2.0</td>\n",
       "      <td>Died of Disease</td>\n",
       "    </tr>\n",
       "  </tbody>\n",
       "</table>\n",
       "<p>5 rows × 34 columns</p>\n",
       "</div>"
      ],
      "text/plain": [
       "  Patient ID  Age at Diagnosis Type of Breast Surgery    Cancer Type  \\\n",
       "0    MB-0000             75.65             Mastectomy  Breast Cancer   \n",
       "1    MB-0002             43.19      Breast Conserving  Breast Cancer   \n",
       "2    MB-0005             48.87             Mastectomy  Breast Cancer   \n",
       "3    MB-0006             47.68             Mastectomy  Breast Cancer   \n",
       "4    MB-0008             76.97             Mastectomy  Breast Cancer   \n",
       "\n",
       "                        Cancer Type Detailed Cellularity Chemotherapy  \\\n",
       "0           Breast Invasive Ductal Carcinoma         NaN           No   \n",
       "1           Breast Invasive Ductal Carcinoma        High           No   \n",
       "2           Breast Invasive Ductal Carcinoma        High          Yes   \n",
       "3  Breast Mixed Ductal and Lobular Carcinoma    Moderate          Yes   \n",
       "4  Breast Mixed Ductal and Lobular Carcinoma        High          Yes   \n",
       "\n",
       "  Pam50 + Claudin-low subtype  Cohort ER status measured by IHC  ...  \\\n",
       "0                 claudin-low     1.0                   Positve  ...   \n",
       "1                        LumA     1.0                   Positve  ...   \n",
       "2                        LumB     1.0                   Positve  ...   \n",
       "3                        LumB     1.0                   Positve  ...   \n",
       "4                        LumB     1.0                   Positve  ...   \n",
       "\n",
       "  Overall Survival Status  PR Status Radio Therapy  \\\n",
       "0                  Living   Negative           Yes   \n",
       "1                  Living   Positive           Yes   \n",
       "2                Deceased   Positive            No   \n",
       "3                  Living   Positive           Yes   \n",
       "4                Deceased   Positive           Yes   \n",
       "\n",
       "  Relapse Free Status (Months) Relapse Free Status     Sex  \\\n",
       "0                       138.65        Not Recurred  Female   \n",
       "1                        83.52        Not Recurred  Female   \n",
       "2                       151.28            Recurred  Female   \n",
       "3                       162.76        Not Recurred  Female   \n",
       "4                        18.55            Recurred  Female   \n",
       "\n",
       "  3-Gene classifier subtype Tumor Size Tumor Stage  Patient's Vital Status  \n",
       "0                 ER-/HER2-       22.0         2.0                  Living  \n",
       "1     ER+/HER2- High Prolif       10.0         1.0                  Living  \n",
       "2                       NaN       15.0         2.0         Died of Disease  \n",
       "3                       NaN       25.0         2.0                  Living  \n",
       "4     ER+/HER2- High Prolif       40.0         2.0         Died of Disease  \n",
       "\n",
       "[5 rows x 34 columns]"
      ]
     },
     "execution_count": 87,
     "metadata": {},
     "output_type": "execute_result"
    }
   ],
   "source": [
    "bc = pd.read_csv('/Users/gracesaunders/Documents/GitHub/trees/assignment/data/Breast Cancer METABRIC.csv')\n",
    "bc.head()"
   ]
  },
  {
   "cell_type": "code",
   "execution_count": 88,
   "metadata": {},
   "outputs": [
    {
     "name": "stdout",
     "output_type": "stream",
     "text": [
      "<class 'pandas.core.frame.DataFrame'>\n",
      "RangeIndex: 2509 entries, 0 to 2508\n",
      "Data columns (total 34 columns):\n",
      " #   Column                          Non-Null Count  Dtype  \n",
      "---  ------                          --------------  -----  \n",
      " 0   Patient ID                      2509 non-null   object \n",
      " 1   Age at Diagnosis                2498 non-null   float64\n",
      " 2   Type of Breast Surgery          1955 non-null   object \n",
      " 3   Cancer Type                     2509 non-null   object \n",
      " 4   Cancer Type Detailed            2509 non-null   object \n",
      " 5   Cellularity                     1917 non-null   object \n",
      " 6   Chemotherapy                    1980 non-null   object \n",
      " 7   Pam50 + Claudin-low subtype     1980 non-null   object \n",
      " 8   Cohort                          2498 non-null   float64\n",
      " 9   ER status measured by IHC       2426 non-null   object \n",
      " 10  ER Status                       2469 non-null   object \n",
      " 11  Neoplasm Histologic Grade       2388 non-null   float64\n",
      " 12  HER2 status measured by SNP6    1980 non-null   object \n",
      " 13  HER2 Status                     1980 non-null   object \n",
      " 14  Tumor Other Histologic Subtype  2374 non-null   object \n",
      " 15  Hormone Therapy                 1980 non-null   object \n",
      " 16  Inferred Menopausal State       1980 non-null   object \n",
      " 17  Integrative Cluster             1980 non-null   object \n",
      " 18  Primary Tumor Laterality        1870 non-null   object \n",
      " 19  Lymph nodes examined positive   2243 non-null   float64\n",
      " 20  Mutation Count                  2357 non-null   float64\n",
      " 21  Nottingham prognostic index     2287 non-null   float64\n",
      " 22  Oncotree Code                   2509 non-null   object \n",
      " 23  Overall Survival (Months)       1981 non-null   float64\n",
      " 24  Overall Survival Status         1981 non-null   object \n",
      " 25  PR Status                       1980 non-null   object \n",
      " 26  Radio Therapy                   1980 non-null   object \n",
      " 27  Relapse Free Status (Months)    2388 non-null   float64\n",
      " 28  Relapse Free Status             2488 non-null   object \n",
      " 29  Sex                             2509 non-null   object \n",
      " 30  3-Gene classifier subtype       1764 non-null   object \n",
      " 31  Tumor Size                      2360 non-null   float64\n",
      " 32  Tumor Stage                     1788 non-null   float64\n",
      " 33  Patient's Vital Status          1980 non-null   object \n",
      "dtypes: float64(10), object(24)\n",
      "memory usage: 666.6+ KB\n"
     ]
    }
   ],
   "source": [
    "bc.info()"
   ]
  },
  {
   "cell_type": "markdown",
   "metadata": {},
   "source": [
    "\n",
    "2.  We'll use a consistent set of feature/explanatory variables. For numeric variables, we'll include `Tumor Size`, `Lymph nodes examined positive`, `Age at Diagnosis`. For categorical variables, we'll include `Tumor Stage`, `Chemotherapy`, and `Cancer Type Detailed`. One-hot-encode the categorical variables and concatenate them with the numeric variables into a feature/covariate matrix, $X$.\n"
   ]
  },
  {
   "cell_type": "code",
   "execution_count": 89,
   "metadata": {},
   "outputs": [],
   "source": [
    "vars = bc.loc[:,['Tumor Stage', 'Chemotherapy', 'Cancer Type Detailed', 'Tumor Size', 'Lymph nodes examined positive', 'Age at Diagnosis', 'Overall Survival Status']]\n",
    "vars = vars.dropna()\n",
    "X = pd.get_dummies(vars, columns = ['Tumor Stage', 'Chemotherapy', 'Cancer Type Detailed'], drop_first=False)\n",
    "y = X['Overall Survival Status']\n",
    "X = X.drop(columns=['Overall Survival Status'])"
   ]
  },
  {
   "cell_type": "code",
   "execution_count": 90,
   "metadata": {},
   "outputs": [
    {
     "name": "stdout",
     "output_type": "stream",
     "text": [
      "<class 'pandas.core.frame.DataFrame'>\n",
      "Index: 1400 entries, 0 to 1743\n",
      "Data columns (total 17 columns):\n",
      " #   Column                                                          Non-Null Count  Dtype  \n",
      "---  ------                                                          --------------  -----  \n",
      " 0   Tumor Size                                                      1400 non-null   float64\n",
      " 1   Lymph nodes examined positive                                   1400 non-null   float64\n",
      " 2   Age at Diagnosis                                                1400 non-null   float64\n",
      " 3   Tumor Stage_0.0                                                 1400 non-null   bool   \n",
      " 4   Tumor Stage_1.0                                                 1400 non-null   bool   \n",
      " 5   Tumor Stage_2.0                                                 1400 non-null   bool   \n",
      " 6   Tumor Stage_3.0                                                 1400 non-null   bool   \n",
      " 7   Tumor Stage_4.0                                                 1400 non-null   bool   \n",
      " 8   Chemotherapy_No                                                 1400 non-null   bool   \n",
      " 9   Chemotherapy_Yes                                                1400 non-null   bool   \n",
      " 10  Cancer Type Detailed_Breast                                     1400 non-null   bool   \n",
      " 11  Cancer Type Detailed_Breast Invasive Ductal Carcinoma           1400 non-null   bool   \n",
      " 12  Cancer Type Detailed_Breast Invasive Lobular Carcinoma          1400 non-null   bool   \n",
      " 13  Cancer Type Detailed_Breast Invasive Mixed Mucinous Carcinoma   1400 non-null   bool   \n",
      " 14  Cancer Type Detailed_Breast Mixed Ductal and Lobular Carcinoma  1400 non-null   bool   \n",
      " 15  Cancer Type Detailed_Invasive Breast Carcinoma                  1400 non-null   bool   \n",
      " 16  Cancer Type Detailed_Metaplastic Breast Cancer                  1400 non-null   bool   \n",
      "dtypes: bool(14), float64(3)\n",
      "memory usage: 62.9 KB\n"
     ]
    }
   ],
   "source": [
    "X.info()"
   ]
  },
  {
   "cell_type": "markdown",
   "metadata": {},
   "source": [
    "\n",
    "3. Let's predict `Overall Survival Status` given the features/covariates $X$. There are 528 missing values, unfortunately: Either drop those rows from your data or add them as a category to predict. Constrain the minimum samples per leaf to 10. Print a dendrogram of the tree. Print a confusion matrix of the algorithm's performance. What is the accuracy? \n"
   ]
  },
  {
   "cell_type": "code",
   "execution_count": 91,
   "metadata": {},
   "outputs": [
    {
     "name": "stdout",
     "output_type": "stream",
     "text": [
      "Accuracy  :  0.625 \n",
      "\n",
      "col_0                    Deceased  Living\n",
      "Overall Survival Status                  \n",
      "Deceased                      104      44\n",
      "Living                         61      71\n"
     ]
    },
    {
     "data": {
      "text/plain": [
       "[Text(0.6639093137254902, 0.9642857142857143, 'Age at Diagnosis <= 67.58\\ngini = 0.489\\nsamples = 1120\\nvalue = [642, 478]'),\n",
       " Text(0.49308473389355745, 0.8928571428571429, 'Lymph nodes examined positive <= 5.5\\ngini = 0.498\\nsamples = 752\\nvalue = [354, 398]'),\n",
       " Text(0.5784970238095238, 0.9285714285714286, 'True  '),\n",
       " Text(0.3475140056022409, 0.8214285714285714, 'Tumor Size <= 24.5\\ngini = 0.492\\nsamples = 684\\nvalue = [298.0, 386.0]'),\n",
       " Text(0.2188375350140056, 0.75, 'Age at Diagnosis <= 54.345\\ngini = 0.472\\nsamples = 433\\nvalue = [165, 268]'),\n",
       " Text(0.11484593837535013, 0.6785714285714286, 'Lymph nodes examined positive <= 1.5\\ngini = 0.406\\nsamples = 198\\nvalue = [56, 142]'),\n",
       " Text(0.08403361344537816, 0.6071428571428571, 'Tumor Size <= 21.5\\ngini = 0.369\\nsamples = 168\\nvalue = [41, 127]'),\n",
       " Text(0.07282913165266107, 0.5357142857142857, 'Tumor Size <= 17.5\\ngini = 0.391\\nsamples = 150\\nvalue = [40.0, 110.0]'),\n",
       " Text(0.04481792717086835, 0.4642857142857143, 'Chemotherapy_Yes <= 0.5\\ngini = 0.339\\nsamples = 97\\nvalue = [21, 76]'),\n",
       " Text(0.03361344537815126, 0.39285714285714285, 'Cancer Type Detailed_Breast Invasive Ductal Carcinoma <= 0.5\\ngini = 0.375\\nsamples = 84\\nvalue = [21, 63]'),\n",
       " Text(0.022408963585434174, 0.32142857142857145, 'gini = 0.124\\nsamples = 15\\nvalue = [1, 14]'),\n",
       " Text(0.04481792717086835, 0.32142857142857145, 'Age at Diagnosis <= 43.395\\ngini = 0.412\\nsamples = 69\\nvalue = [20, 49]'),\n",
       " Text(0.022408963585434174, 0.25, 'Age at Diagnosis <= 39.325\\ngini = 0.32\\nsamples = 20\\nvalue = [4, 16]'),\n",
       " Text(0.011204481792717087, 0.17857142857142858, 'gini = 0.42\\nsamples = 10\\nvalue = [3, 7]'),\n",
       " Text(0.03361344537815126, 0.17857142857142858, 'gini = 0.18\\nsamples = 10\\nvalue = [1, 9]'),\n",
       " Text(0.06722689075630252, 0.25, 'Age at Diagnosis <= 47.095\\ngini = 0.44\\nsamples = 49\\nvalue = [16.0, 33.0]'),\n",
       " Text(0.056022408963585436, 0.17857142857142858, 'gini = 0.497\\nsamples = 13\\nvalue = [7, 6]'),\n",
       " Text(0.0784313725490196, 0.17857142857142858, 'Age at Diagnosis <= 49.69\\ngini = 0.375\\nsamples = 36\\nvalue = [9, 27]'),\n",
       " Text(0.06722689075630252, 0.10714285714285714, 'gini = 0.153\\nsamples = 12\\nvalue = [1, 11]'),\n",
       " Text(0.0896358543417367, 0.10714285714285714, 'Age at Diagnosis <= 51.265\\ngini = 0.444\\nsamples = 24\\nvalue = [8, 16]'),\n",
       " Text(0.0784313725490196, 0.03571428571428571, 'gini = 0.496\\nsamples = 11\\nvalue = [5, 6]'),\n",
       " Text(0.10084033613445378, 0.03571428571428571, 'gini = 0.355\\nsamples = 13\\nvalue = [3, 10]'),\n",
       " Text(0.056022408963585436, 0.39285714285714285, 'gini = 0.0\\nsamples = 13\\nvalue = [0, 13]'),\n",
       " Text(0.10084033613445378, 0.4642857142857143, 'Age at Diagnosis <= 52.12\\ngini = 0.46\\nsamples = 53\\nvalue = [19, 34]'),\n",
       " Text(0.0896358543417367, 0.39285714285714285, 'Age at Diagnosis <= 45.195\\ngini = 0.439\\nsamples = 43\\nvalue = [14.0, 29.0]'),\n",
       " Text(0.0784313725490196, 0.32142857142857145, 'gini = 0.492\\nsamples = 16\\nvalue = [7, 9]'),\n",
       " Text(0.10084033613445378, 0.32142857142857145, 'Tumor Size <= 19.5\\ngini = 0.384\\nsamples = 27\\nvalue = [7, 20]'),\n",
       " Text(0.0896358543417367, 0.25, 'gini = 0.165\\nsamples = 11\\nvalue = [1, 10]'),\n",
       " Text(0.11204481792717087, 0.25, 'gini = 0.469\\nsamples = 16\\nvalue = [6, 10]'),\n",
       " Text(0.11204481792717087, 0.39285714285714285, 'gini = 0.5\\nsamples = 10\\nvalue = [5, 5]'),\n",
       " Text(0.09523809523809523, 0.5357142857142857, 'gini = 0.105\\nsamples = 18\\nvalue = [1, 17]'),\n",
       " Text(0.14565826330532214, 0.6071428571428571, 'Age at Diagnosis <= 49.895\\ngini = 0.5\\nsamples = 30\\nvalue = [15, 15]'),\n",
       " Text(0.13445378151260504, 0.5357142857142857, 'Age at Diagnosis <= 43.45\\ngini = 0.48\\nsamples = 20\\nvalue = [12, 8]'),\n",
       " Text(0.12324929971988796, 0.4642857142857143, 'gini = 0.48\\nsamples = 10\\nvalue = [6, 4]'),\n",
       " Text(0.14565826330532214, 0.4642857142857143, 'gini = 0.48\\nsamples = 10\\nvalue = [6, 4]'),\n",
       " Text(0.1568627450980392, 0.5357142857142857, 'gini = 0.42\\nsamples = 10\\nvalue = [3, 7]'),\n",
       " Text(0.3228291316526611, 0.6785714285714286, 'Lymph nodes examined positive <= 1.5\\ngini = 0.497\\nsamples = 235\\nvalue = [109, 126]'),\n",
       " Text(0.3004201680672269, 0.6071428571428571, 'Age at Diagnosis <= 55.36\\ngini = 0.491\\nsamples = 212\\nvalue = [92, 120]'),\n",
       " Text(0.28921568627450983, 0.5357142857142857, 'gini = 0.42\\nsamples = 10\\nvalue = [7, 3]'),\n",
       " Text(0.311624649859944, 0.5357142857142857, 'Tumor Size <= 19.5\\ngini = 0.487\\nsamples = 202\\nvalue = [85.0, 117.0]'),\n",
       " Text(0.2759103641456583, 0.4642857142857143, 'Age at Diagnosis <= 66.365\\ngini = 0.473\\nsamples = 130\\nvalue = [50, 80]'),\n",
       " Text(0.2647058823529412, 0.39285714285714285, 'Age at Diagnosis <= 63.995\\ngini = 0.481\\nsamples = 119\\nvalue = [48, 71]'),\n",
       " Text(0.226890756302521, 0.32142857142857145, 'Age at Diagnosis <= 61.19\\ngini = 0.465\\nsamples = 95\\nvalue = [35, 60]'),\n",
       " Text(0.18487394957983194, 0.25, 'Tumor Size <= 15.5\\ngini = 0.491\\nsamples = 60\\nvalue = [26, 34]'),\n",
       " Text(0.1568627450980392, 0.17857142857142858, 'Age at Diagnosis <= 58.33\\ngini = 0.495\\nsamples = 40\\nvalue = [22, 18]'),\n",
       " Text(0.13445378151260504, 0.10714285714285714, 'Tumor Size <= 14.5\\ngini = 0.48\\nsamples = 20\\nvalue = [8, 12]'),\n",
       " Text(0.12324929971988796, 0.03571428571428571, 'gini = 0.42\\nsamples = 10\\nvalue = [3, 7]'),\n",
       " Text(0.14565826330532214, 0.03571428571428571, 'gini = 0.5\\nsamples = 10\\nvalue = [5, 5]'),\n",
       " Text(0.1792717086834734, 0.10714285714285714, 'Age at Diagnosis <= 59.955\\ngini = 0.42\\nsamples = 20\\nvalue = [14, 6]'),\n",
       " Text(0.16806722689075632, 0.03571428571428571, 'gini = 0.42\\nsamples = 10\\nvalue = [7, 3]'),\n",
       " Text(0.19047619047619047, 0.03571428571428571, 'gini = 0.42\\nsamples = 10\\nvalue = [7, 3]'),\n",
       " Text(0.21288515406162464, 0.17857142857142858, 'Age at Diagnosis <= 58.195\\ngini = 0.32\\nsamples = 20\\nvalue = [4, 16]'),\n",
       " Text(0.20168067226890757, 0.10714285714285714, 'gini = 0.32\\nsamples = 10\\nvalue = [2, 8]'),\n",
       " Text(0.22408963585434175, 0.10714285714285714, 'gini = 0.32\\nsamples = 10\\nvalue = [2, 8]'),\n",
       " Text(0.2689075630252101, 0.25, 'Tumor Size <= 16.5\\ngini = 0.382\\nsamples = 35\\nvalue = [9, 26]'),\n",
       " Text(0.25770308123249297, 0.17857142857142858, 'Tumor Size <= 13.5\\ngini = 0.227\\nsamples = 23\\nvalue = [3, 20]'),\n",
       " Text(0.24649859943977592, 0.10714285714285714, 'gini = 0.355\\nsamples = 13\\nvalue = [3, 10]'),\n",
       " Text(0.2689075630252101, 0.10714285714285714, 'gini = 0.0\\nsamples = 10\\nvalue = [0, 10]'),\n",
       " Text(0.2801120448179272, 0.17857142857142858, 'gini = 0.5\\nsamples = 12\\nvalue = [6, 6]'),\n",
       " Text(0.3025210084033613, 0.32142857142857145, 'Age at Diagnosis <= 65.3\\ngini = 0.497\\nsamples = 24\\nvalue = [13, 11]'),\n",
       " Text(0.2913165266106443, 0.25, 'gini = 0.463\\nsamples = 11\\nvalue = [7, 4]'),\n",
       " Text(0.3137254901960784, 0.25, 'gini = 0.497\\nsamples = 13\\nvalue = [6, 7]'),\n",
       " Text(0.28711484593837533, 0.39285714285714285, 'gini = 0.298\\nsamples = 11\\nvalue = [2, 9]'),\n",
       " Text(0.3473389355742297, 0.4642857142857143, 'Age at Diagnosis <= 59.04\\ngini = 0.5\\nsamples = 72\\nvalue = [35, 37]'),\n",
       " Text(0.33613445378151263, 0.39285714285714285, 'gini = 0.43\\nsamples = 16\\nvalue = [5, 11]'),\n",
       " Text(0.3585434173669468, 0.39285714285714285, 'Lymph nodes examined positive <= 0.5\\ngini = 0.497\\nsamples = 56\\nvalue = [30, 26]'),\n",
       " Text(0.3473389355742297, 0.32142857142857145, 'Tumor Size <= 21.5\\ngini = 0.497\\nsamples = 39\\nvalue = [18, 21]'),\n",
       " Text(0.33613445378151263, 0.25, 'Age at Diagnosis <= 61.395\\ngini = 0.497\\nsamples = 28\\nvalue = [15, 13]'),\n",
       " Text(0.32492997198879553, 0.17857142857142858, 'gini = 0.444\\nsamples = 12\\nvalue = [8, 4]'),\n",
       " Text(0.3473389355742297, 0.17857142857142858, 'gini = 0.492\\nsamples = 16\\nvalue = [7, 9]'),\n",
       " Text(0.3585434173669468, 0.25, 'gini = 0.397\\nsamples = 11\\nvalue = [3, 8]'),\n",
       " Text(0.3697478991596639, 0.32142857142857145, 'gini = 0.415\\nsamples = 17\\nvalue = [12, 5]'),\n",
       " Text(0.34523809523809523, 0.6071428571428571, 'Age at Diagnosis <= 61.155\\ngini = 0.386\\nsamples = 23\\nvalue = [17, 6]'),\n",
       " Text(0.33403361344537813, 0.5357142857142857, 'gini = 0.48\\nsamples = 10\\nvalue = [4, 6]'),\n",
       " Text(0.35644257703081234, 0.5357142857142857, 'gini = 0.0\\nsamples = 13\\nvalue = [13, 0]'),\n",
       " Text(0.47619047619047616, 0.75, 'Age at Diagnosis <= 42.5\\ngini = 0.498\\nsamples = 251\\nvalue = [133, 118]'),\n",
       " Text(0.4257703081232493, 0.6785714285714286, 'Tumor Size <= 29.0\\ngini = 0.346\\nsamples = 36\\nvalue = [28, 8]'),\n",
       " Text(0.41456582633053224, 0.6071428571428571, 'gini = 0.463\\nsamples = 11\\nvalue = [7, 4]'),\n",
       " Text(0.4369747899159664, 0.6071428571428571, 'Age at Diagnosis <= 35.515\\ngini = 0.269\\nsamples = 25\\nvalue = [21, 4]'),\n",
       " Text(0.4257703081232493, 0.5357142857142857, 'gini = 0.48\\nsamples = 10\\nvalue = [6, 4]'),\n",
       " Text(0.4481792717086835, 0.5357142857142857, 'gini = 0.0\\nsamples = 15\\nvalue = [15, 0]'),\n",
       " Text(0.5266106442577031, 0.6785714285714286, 'Age at Diagnosis <= 60.92\\ngini = 0.5\\nsamples = 215\\nvalue = [105, 110]'),\n",
       " Text(0.48179271708683474, 0.6071428571428571, 'Tumor Stage_1.0 <= 0.5\\ngini = 0.485\\nsamples = 152\\nvalue = [63, 89]'),\n",
       " Text(0.47058823529411764, 0.5357142857142857, 'Age at Diagnosis <= 51.14\\ngini = 0.474\\nsamples = 140\\nvalue = [54, 86]'),\n",
       " Text(0.4257703081232493, 0.4642857142857143, 'Age at Diagnosis <= 47.43\\ngini = 0.401\\nsamples = 54\\nvalue = [15, 39]'),\n",
       " Text(0.40336134453781514, 0.39285714285714285, 'Chemotherapy_No <= 0.5\\ngini = 0.488\\nsamples = 26\\nvalue = [11.0, 15.0]'),\n",
       " Text(0.39215686274509803, 0.32142857142857145, 'gini = 0.337\\nsamples = 14\\nvalue = [3, 11]'),\n",
       " Text(0.41456582633053224, 0.32142857142857145, 'gini = 0.444\\nsamples = 12\\nvalue = [8, 4]'),\n",
       " Text(0.4481792717086835, 0.39285714285714285, 'Tumor Size <= 32.5\\ngini = 0.245\\nsamples = 28\\nvalue = [4, 24]'),\n",
       " Text(0.4369747899159664, 0.32142857142857145, 'gini = 0.105\\nsamples = 18\\nvalue = [1, 17]'),\n",
       " Text(0.45938375350140054, 0.32142857142857145, 'gini = 0.42\\nsamples = 10\\nvalue = [3, 7]'),\n",
       " Text(0.5154061624649859, 0.4642857142857143, 'Age at Diagnosis <= 59.26\\ngini = 0.496\\nsamples = 86\\nvalue = [39, 47]'),\n",
       " Text(0.5042016806722689, 0.39285714285714285, 'Lymph nodes examined positive <= 0.5\\ngini = 0.5\\nsamples = 74\\nvalue = [37, 37]'),\n",
       " Text(0.48179271708683474, 0.32142857142857145, 'Age at Diagnosis <= 54.855\\ngini = 0.463\\nsamples = 33\\nvalue = [12, 21]'),\n",
       " Text(0.47058823529411764, 0.25, 'gini = 0.278\\nsamples = 12\\nvalue = [2, 10]'),\n",
       " Text(0.49299719887955185, 0.25, 'Tumor Size <= 29.5\\ngini = 0.499\\nsamples = 21\\nvalue = [10, 11]'),\n",
       " Text(0.48179271708683474, 0.17857142857142858, 'gini = 0.496\\nsamples = 11\\nvalue = [6, 5]'),\n",
       " Text(0.5042016806722689, 0.17857142857142858, 'gini = 0.48\\nsamples = 10\\nvalue = [4, 6]'),\n",
       " Text(0.5266106442577031, 0.32142857142857145, 'Age at Diagnosis <= 54.195\\ngini = 0.476\\nsamples = 41\\nvalue = [25, 16]'),\n",
       " Text(0.5154061624649859, 0.25, 'gini = 0.32\\nsamples = 15\\nvalue = [12, 3]'),\n",
       " Text(0.5378151260504201, 0.25, 'Chemotherapy_Yes <= 0.5\\ngini = 0.5\\nsamples = 26\\nvalue = [13, 13]'),\n",
       " Text(0.5266106442577031, 0.17857142857142858, 'gini = 0.42\\nsamples = 10\\nvalue = [7, 3]'),\n",
       " Text(0.5490196078431373, 0.17857142857142858, 'gini = 0.469\\nsamples = 16\\nvalue = [6, 10]'),\n",
       " Text(0.5266106442577031, 0.39285714285714285, 'gini = 0.278\\nsamples = 12\\nvalue = [2, 10]'),\n",
       " Text(0.49299719887955185, 0.5357142857142857, 'gini = 0.375\\nsamples = 12\\nvalue = [9, 3]'),\n",
       " Text(0.5714285714285714, 0.6071428571428571, 'Tumor Size <= 29.5\\ngini = 0.444\\nsamples = 63\\nvalue = [42, 21]'),\n",
       " Text(0.5490196078431373, 0.5357142857142857, 'Age at Diagnosis <= 63.98\\ngini = 0.493\\nsamples = 34\\nvalue = [19, 15]'),\n",
       " Text(0.5378151260504201, 0.4642857142857143, 'gini = 0.36\\nsamples = 17\\nvalue = [13, 4]'),\n",
       " Text(0.5602240896358543, 0.4642857142857143, 'gini = 0.457\\nsamples = 17\\nvalue = [6, 11]'),\n",
       " Text(0.5938375350140056, 0.5357142857142857, 'Age at Diagnosis <= 63.655\\ngini = 0.328\\nsamples = 29\\nvalue = [23, 6]'),\n",
       " Text(0.5826330532212886, 0.4642857142857143, 'gini = 0.496\\nsamples = 11\\nvalue = [6, 5]'),\n",
       " Text(0.6050420168067226, 0.4642857142857143, 'gini = 0.105\\nsamples = 18\\nvalue = [17, 1]'),\n",
       " Text(0.6386554621848739, 0.8214285714285714, 'Age at Diagnosis <= 53.615\\ngini = 0.291\\nsamples = 68\\nvalue = [56, 12]'),\n",
       " Text(0.6162464985994398, 0.75, 'Age at Diagnosis <= 46.305\\ngini = 0.412\\nsamples = 31\\nvalue = [22, 9]'),\n",
       " Text(0.6050420168067226, 0.6785714285714286, 'Lymph nodes examined positive <= 9.5\\ngini = 0.32\\nsamples = 20\\nvalue = [16, 4]'),\n",
       " Text(0.5938375350140056, 0.6071428571428571, 'gini = 0.32\\nsamples = 10\\nvalue = [8, 2]'),\n",
       " Text(0.6162464985994398, 0.6071428571428571, 'gini = 0.32\\nsamples = 10\\nvalue = [8, 2]'),\n",
       " Text(0.6274509803921569, 0.6785714285714286, 'gini = 0.496\\nsamples = 11\\nvalue = [6, 5]'),\n",
       " Text(0.6610644257703081, 0.75, 'Age at Diagnosis <= 65.45\\ngini = 0.149\\nsamples = 37\\nvalue = [34, 3]'),\n",
       " Text(0.6498599439775911, 0.6785714285714286, 'gini = 0.0\\nsamples = 27\\nvalue = [27, 0]'),\n",
       " Text(0.6722689075630253, 0.6785714285714286, 'gini = 0.42\\nsamples = 10\\nvalue = [7, 3]'),\n",
       " Text(0.834733893557423, 0.8928571428571429, 'Tumor Size <= 24.5\\ngini = 0.34\\nsamples = 368\\nvalue = [288, 80]'),\n",
       " Text(0.7493216036414566, 0.9285714285714286, '  False'),\n",
       " Text(0.7619047619047619, 0.8214285714285714, 'Age at Diagnosis <= 73.085\\ngini = 0.422\\nsamples = 165\\nvalue = [115.0, 50.0]'),\n",
       " Text(0.7170868347338936, 0.75, 'Age at Diagnosis <= 70.33\\ngini = 0.493\\nsamples = 70\\nvalue = [39, 31]'),\n",
       " Text(0.6946778711484594, 0.6785714285714286, 'Age at Diagnosis <= 69.625\\ngini = 0.458\\nsamples = 45\\nvalue = [29.0, 16.0]'),\n",
       " Text(0.6834733893557423, 0.6071428571428571, 'Tumor Size <= 16.5\\ngini = 0.492\\nsamples = 32\\nvalue = [18, 14]'),\n",
       " Text(0.6722689075630253, 0.5357142857142857, 'gini = 0.496\\nsamples = 11\\nvalue = [5, 6]'),\n",
       " Text(0.6946778711484594, 0.5357142857142857, 'Age at Diagnosis <= 68.77\\ngini = 0.472\\nsamples = 21\\nvalue = [13, 8]'),\n",
       " Text(0.6834733893557423, 0.4642857142857143, 'gini = 0.496\\nsamples = 11\\nvalue = [6, 5]'),\n",
       " Text(0.7058823529411765, 0.4642857142857143, 'gini = 0.42\\nsamples = 10\\nvalue = [7, 3]'),\n",
       " Text(0.7058823529411765, 0.6071428571428571, 'gini = 0.26\\nsamples = 13\\nvalue = [11, 2]'),\n",
       " Text(0.7394957983193278, 0.6785714285714286, 'Tumor Size <= 19.0\\ngini = 0.48\\nsamples = 25\\nvalue = [10, 15]'),\n",
       " Text(0.7282913165266106, 0.6071428571428571, 'gini = 0.397\\nsamples = 11\\nvalue = [3, 8]'),\n",
       " Text(0.7507002801120448, 0.6071428571428571, 'gini = 0.5\\nsamples = 14\\nvalue = [7, 7]'),\n",
       " Text(0.8067226890756303, 0.75, 'Tumor Size <= 20.5\\ngini = 0.32\\nsamples = 95\\nvalue = [76, 19]'),\n",
       " Text(0.7843137254901961, 0.6785714285714286, 'Lymph nodes examined positive <= 1.5\\ngini = 0.225\\nsamples = 62\\nvalue = [54, 8]'),\n",
       " Text(0.773109243697479, 0.6071428571428571, 'Age at Diagnosis <= 77.135\\ngini = 0.177\\nsamples = 51\\nvalue = [46, 5]'),\n",
       " Text(0.7619047619047619, 0.5357142857142857, 'Age at Diagnosis <= 75.26\\ngini = 0.32\\nsamples = 25\\nvalue = [20, 5]'),\n",
       " Text(0.7507002801120448, 0.4642857142857143, 'gini = 0.18\\nsamples = 10\\nvalue = [9, 1]'),\n",
       " Text(0.773109243697479, 0.4642857142857143, 'gini = 0.391\\nsamples = 15\\nvalue = [11, 4]'),\n",
       " Text(0.7843137254901961, 0.5357142857142857, 'gini = 0.0\\nsamples = 26\\nvalue = [26, 0]'),\n",
       " Text(0.7955182072829131, 0.6071428571428571, 'gini = 0.397\\nsamples = 11\\nvalue = [8, 3]'),\n",
       " Text(0.8291316526610645, 0.6785714285714286, 'Age at Diagnosis <= 80.26\\ngini = 0.444\\nsamples = 33\\nvalue = [22, 11]'),\n",
       " Text(0.8179271708683473, 0.6071428571428571, 'gini = 0.499\\nsamples = 19\\nvalue = [9, 10]'),\n",
       " Text(0.8403361344537815, 0.6071428571428571, 'gini = 0.133\\nsamples = 14\\nvalue = [13, 1]'),\n",
       " Text(0.907563025210084, 0.8214285714285714, 'Tumor Size <= 45.5\\ngini = 0.252\\nsamples = 203\\nvalue = [173.0, 30.0]'),\n",
       " Text(0.8851540616246498, 0.75, 'Age at Diagnosis <= 84.145\\ngini = 0.286\\nsamples = 168\\nvalue = [139, 29]'),\n",
       " Text(0.8739495798319328, 0.6785714285714286, 'Tumor Size <= 41.5\\ngini = 0.31\\nsamples = 151\\nvalue = [122, 29]'),\n",
       " Text(0.8627450980392157, 0.6071428571428571, 'Age at Diagnosis <= 68.67\\ngini = 0.292\\nsamples = 141\\nvalue = [116, 25]'),\n",
       " Text(0.8515406162464986, 0.5357142857142857, 'gini = 0.444\\nsamples = 18\\nvalue = [12, 6]'),\n",
       " Text(0.8739495798319328, 0.5357142857142857, 'Tumor Size <= 26.5\\ngini = 0.261\\nsamples = 123\\nvalue = [104, 19]'),\n",
       " Text(0.8319327731092437, 0.4642857142857143, 'Age at Diagnosis <= 72.565\\ngini = 0.117\\nsamples = 32\\nvalue = [30, 2]'),\n",
       " Text(0.8207282913165266, 0.39285714285714285, 'gini = 0.18\\nsamples = 10\\nvalue = [9, 1]'),\n",
       " Text(0.8431372549019608, 0.39285714285714285, 'Lymph nodes examined positive <= 0.5\\ngini = 0.087\\nsamples = 22\\nvalue = [21, 1]'),\n",
       " Text(0.8319327731092437, 0.32142857142857145, 'gini = 0.18\\nsamples = 10\\nvalue = [9, 1]'),\n",
       " Text(0.8543417366946778, 0.32142857142857145, 'gini = 0.0\\nsamples = 12\\nvalue = [12, 0]'),\n",
       " Text(0.9159663865546218, 0.4642857142857143, 'Age at Diagnosis <= 70.015\\ngini = 0.304\\nsamples = 91\\nvalue = [74, 17]'),\n",
       " Text(0.8879551820728291, 0.39285714285714285, 'Age at Diagnosis <= 69.67\\ngini = 0.095\\nsamples = 20\\nvalue = [19, 1]'),\n",
       " Text(0.876750700280112, 0.32142857142857145, 'gini = 0.0\\nsamples = 10\\nvalue = [10, 0]'),\n",
       " Text(0.8991596638655462, 0.32142857142857145, 'gini = 0.18\\nsamples = 10\\nvalue = [9, 1]'),\n",
       " Text(0.9439775910364145, 0.39285714285714285, 'Age at Diagnosis <= 75.845\\ngini = 0.349\\nsamples = 71\\nvalue = [55, 16]'),\n",
       " Text(0.9215686274509803, 0.32142857142857145, 'Age at Diagnosis <= 73.295\\ngini = 0.426\\nsamples = 39\\nvalue = [27, 12]'),\n",
       " Text(0.9103641456582633, 0.25, 'Age at Diagnosis <= 71.585\\ngini = 0.302\\nsamples = 27\\nvalue = [22, 5]'),\n",
       " Text(0.8991596638655462, 0.17857142857142858, 'gini = 0.43\\nsamples = 16\\nvalue = [11, 5]'),\n",
       " Text(0.9215686274509803, 0.17857142857142858, 'gini = 0.0\\nsamples = 11\\nvalue = [11, 0]'),\n",
       " Text(0.9327731092436975, 0.25, 'gini = 0.486\\nsamples = 12\\nvalue = [5, 7]'),\n",
       " Text(0.9663865546218487, 0.32142857142857145, 'Age at Diagnosis <= 77.05\\ngini = 0.219\\nsamples = 32\\nvalue = [28, 4]'),\n",
       " Text(0.9551820728291317, 0.25, 'gini = 0.0\\nsamples = 10\\nvalue = [10, 0]'),\n",
       " Text(0.9775910364145658, 0.25, 'Lymph nodes examined positive <= 3.5\\ngini = 0.298\\nsamples = 22\\nvalue = [18, 4]'),\n",
       " Text(0.9663865546218487, 0.17857142857142858, 'gini = 0.375\\nsamples = 12\\nvalue = [9, 3]'),\n",
       " Text(0.988795518207283, 0.17857142857142858, 'gini = 0.18\\nsamples = 10\\nvalue = [9, 1]'),\n",
       " Text(0.8851540616246498, 0.6071428571428571, 'gini = 0.48\\nsamples = 10\\nvalue = [6, 4]'),\n",
       " Text(0.896358543417367, 0.6785714285714286, 'gini = 0.0\\nsamples = 17\\nvalue = [17, 0]'),\n",
       " Text(0.9299719887955182, 0.75, 'Age at Diagnosis <= 72.045\\ngini = 0.056\\nsamples = 35\\nvalue = [34, 1]'),\n",
       " Text(0.9187675070028011, 0.6785714285714286, 'gini = 0.142\\nsamples = 13\\nvalue = [12, 1]'),\n",
       " Text(0.9411764705882353, 0.6785714285714286, 'gini = 0.0\\nsamples = 22\\nvalue = [22, 0]')]"
      ]
     },
     "execution_count": 91,
     "metadata": {},
     "output_type": "execute_result"
    },
    {
     "data": {
      "image/png": "[encoded data removed]",
      "text/plain": [
       "<Figure size 640x480 with 1 Axes>"
      ]
     },
     "metadata": {},
     "output_type": "display_data"
    }
   ],
   "source": [
    "from sklearn import tree # Import the tree classifier\n",
    "from sklearn.tree import plot_tree # Import the dendrogram plotter\n",
    "from sklearn.model_selection import train_test_split # Train/test splitter\n",
    "\n",
    "## Split the Sample into Training and Testing Sets:\n",
    "X_train, X_test, y_train, y_test = train_test_split(X,y,\n",
    "                                                    test_size=.2,\n",
    "                                                    random_state=104)\n",
    "\n",
    "cart = tree.DecisionTreeClassifier(min_samples_leaf = 10) # Create a classifier object\n",
    "\n",
    "cart = cart.fit(X_train, y_train) # Fit the classifier\n",
    "y_hat = cart.predict(X_test)\n",
    "\n",
    "## Confusion Matrix:\n",
    "print('Accuracy  : ', cart.score(X_test, y_test), '\\n')\n",
    "print(pd.crosstab(y_test,y_hat))\n",
    "\n",
    "# Visualize results:\n",
    "var_names = cart.feature_names_in_\n",
    "plot_tree(cart,filled=True,feature_names=var_names) \n"
   ]
  },
  {
   "cell_type": "markdown",
   "metadata": {},
   "source": [
    "\n",
    "4. For your model in part three, compute three statistics:\n",
    "    - The **true positive rate** or **sensitivity**:\n",
    "        $$\n",
    "        TPR = \\dfrac{TP}{TP+FN}\n",
    "        $$\n",
    "    - The **true negative rate** or **specificity**:\n",
    "        $$\n",
    "        TNR = \\dfrac{TN}{TN+FP}\n",
    "        $$\n",
    "    Does your model tend to perform better with respect to one of these metrics?\n"
   ]
  },
  {
   "cell_type": "code",
   "execution_count": 92,
   "metadata": {},
   "outputs": [
    {
     "name": "stdout",
     "output_type": "stream",
     "text": [
      "Sensitivity: 0.7027027027027027 (True Positive Rate)\n",
      "Specificity: 0.5378787878787878 (True Negative Rate)\n"
     ]
    }
   ],
   "source": [
    "TP = 104 # correctly predicted deceased\n",
    "FN = 44 # incorrectly predicted living\n",
    "FP = 61 # incorrectly predicted deceased\n",
    "TN = 71 # correctly predicted living\n",
    "TPR = TP/(TP+FN) # True Positive Rate\n",
    "TNR = TN/(TN+FP) # True Negative Rate\n",
    "\n",
    "print('Sensitivity:', TPR,'(True Positive Rate)')\n",
    "print('Specificity:', TNR,'(True Negative Rate)')"
   ]
  },
  {
   "cell_type": "code",
   "execution_count": null,
   "metadata": {},
   "outputs": [],
   "source": [
    "# yes, the true positive rate is higher, meaning it is better at predicting the positive class (deceased) than the negative class (living)."
   ]
  },
  {
   "cell_type": "markdown",
   "metadata": {},
   "source": [
    "\n",
    "5. Let's predict `Overall Survival (Months)` given the features/covariates $X$. Use the train/test split to pick the optimal `min_samples_leaf` value that gives the highest $R^2$ on the test set (it's about 110). What is the $R^2$? Plot the test values against the predicted values. How do you feel about this model for clinical purposes?"
   ]
  },
  {
   "cell_type": "code",
   "execution_count": 93,
   "metadata": {},
   "outputs": [],
   "source": [
    "vars = bc.loc[:,['Tumor Stage', 'Chemotherapy', 'Cancer Type Detailed', 'Tumor Size', 'Lymph nodes examined positive', 'Age at Diagnosis', 'Overall Survival (Months)']]\n",
    "vars = vars.dropna()\n",
    "X = pd.get_dummies(vars, columns = ['Tumor Stage', 'Chemotherapy', 'Cancer Type Detailed'], drop_first=False)\n",
    "y = X['Overall Survival (Months)']\n",
    "X = X.drop(columns=['Overall Survival (Months)'])"
   ]
  },
  {
   "cell_type": "code",
   "execution_count": 94,
   "metadata": {},
   "outputs": [
    {
     "name": "stdout",
     "output_type": "stream",
     "text": [
      "Rsq  :  0.012535238940612481 \n",
      "\n"
     ]
    },
    {
     "data": {
      "text/plain": [
       "[Text(0.6, 0.9166666666666666, 'Lymph nodes examined positive <= 1.5\\nsquared_error = 6090.912\\nsamples = 1120\\nvalue = 126.582'),\n",
       " Text(0.4, 0.75, 'Age at Diagnosis <= 70.925\\nsquared_error = 5946.739\\nsamples = 797\\nvalue = 140.204'),\n",
       " Text(0.5, 0.8333333333333333, 'True  '),\n",
       " Text(0.3, 0.5833333333333334, 'Tumor Size <= 23.5\\nsquared_error = 6270.987\\nsamples = 634\\nvalue = 148.694'),\n",
       " Text(0.2, 0.4166666666666667, 'Age at Diagnosis <= 50.705\\nsquared_error = 5960.556\\nsamples = 414\\nvalue = 161.315'),\n",
       " Text(0.1, 0.25, 'squared_error = 6419.695\\nsamples = 124\\nvalue = 173.21'),\n",
       " Text(0.3, 0.25, 'Age at Diagnosis <= 61.04\\nsquared_error = 5677.862\\nsamples = 290\\nvalue = 156.228'),\n",
       " Text(0.2, 0.08333333333333333, 'squared_error = 6451.739\\nsamples = 141\\nvalue = 147.752'),\n",
       " Text(0.4, 0.08333333333333333, 'squared_error = 4813.188\\nsamples = 149\\nvalue = 164.25'),\n",
       " Text(0.4, 0.4166666666666667, 'squared_error = 5991.401\\nsamples = 220\\nvalue = 124.945'),\n",
       " Text(0.5, 0.5833333333333334, 'squared_error = 3314.591\\nsamples = 163\\nvalue = 107.18'),\n",
       " Text(0.8, 0.75, 'Lymph nodes examined positive <= 4.5\\nsquared_error = 4859.124\\nsamples = 323\\nvalue = 92.971'),\n",
       " Text(0.7, 0.8333333333333333, '  False'),\n",
       " Text(0.7, 0.5833333333333334, 'squared_error = 5700.645\\nsamples = 184\\nvalue = 108.458'),\n",
       " Text(0.9, 0.5833333333333334, 'squared_error = 3007.423\\nsamples = 139\\nvalue = 72.471')]"
      ]
     },
     "execution_count": 94,
     "metadata": {},
     "output_type": "execute_result"
    },
    {
     "data": {
      "image/png": "[encoded data removed]",
      "text/plain": [
       "<Figure size 640x480 with 1 Axes>"
      ]
     },
     "metadata": {},
     "output_type": "display_data"
    }
   ],
   "source": [
    "X_train, X_test, y_train, y_test = train_test_split(X,y,test_size=.2,random_state=104)\n",
    "\n",
    "cart = tree.DecisionTreeRegressor(min_samples_leaf = 118)\n",
    "\n",
    "cart = cart.fit(X_train, y_train) # Fit the classifier\n",
    "\n",
    "## Make Predictions on the Test Set:\n",
    "y_hat = cart.predict(X_test)\n",
    "print('Rsq  : ', cart.score(X_test, y_test), '\\n')\n",
    "\n",
    "# Visualize results:\n",
    "var_names = cart.feature_names_in_\n",
    "plot_tree(cart,filled=True,feature_names=var_names) "
   ]
  },
  {
   "cell_type": "code",
   "execution_count": 99,
   "metadata": {},
   "outputs": [
    {
     "data": {
      "image/png": "[encoded data removed]",
      "text/plain": [
       "<Figure size 640x480 with 1 Axes>"
      ]
     },
     "metadata": {},
     "output_type": "display_data"
    }
   ],
   "source": [
    "\n",
    "import matplotlib.pyplot as plt\n",
    "plt.scatter(y_test, y_hat, alpha=0.5)\n",
    "plt.xlabel('Actual Survival (Months)')\n",
    "plt.ylabel('Predicted Survival (Months)')\n",
    "plt.show()"
   ]
  },
  {
   "cell_type": "code",
   "execution_count": 100,
   "metadata": {},
   "outputs": [
    {
     "data": {
      "image/png": "[encoded data removed]",
      "text/plain": [
       "<Figure size 640x480 with 1 Axes>"
      ]
     },
     "metadata": {},
     "output_type": "display_data"
    }
   ],
   "source": [
    "# the scatterplot shows no identifiable pattern, meaning the model is not predicting well (which makes sense with such a low R^2 value).\n",
    "# plotting residuals to see if there are any patterns in the errors\n",
    "e = y_test - y_hat\n",
    "sns.kdeplot(e).set(title='Residuals') \n",
    "plt.show()\n"
   ]
  },
  {
   "cell_type": "code",
   "execution_count": 102,
   "metadata": {},
   "outputs": [
    {
     "data": {
      "text/plain": [
       "count    1400.000000\n",
       "mean      127.848048\n",
       "std        77.944790\n",
       "min         0.100000\n",
       "25%        61.900000\n",
       "50%       117.583333\n",
       "75%       189.050000\n",
       "max       351.000000\n",
       "Name: Overall Survival (Months), dtype: float64"
      ]
     },
     "execution_count": 102,
     "metadata": {},
     "output_type": "execute_result"
    }
   ],
   "source": [
    "y.describe()"
   ]
  },
  {
   "cell_type": "code",
   "execution_count": null,
   "metadata": {},
   "outputs": [],
   "source": [
    "# I would definitely not support using this model for clinical purposes, \n",
    "# because it is not very accurate - a different kind of model would be a better fit\n",
    "# maybe the first model on binary death prediction would be ok to use, \n",
    "# since it has a higher accuracy and it has a 70% true positive rate for predicting death outcomes\n",
    "# so potentially could be used to treat those patients sooner/better so that they could live longer\n",
    "# but the second model is not good enough to use for predicting survival time"
   ]
  },
  {
   "cell_type": "markdown",
   "metadata": {},
   "source": [
    "**Q4.** This is a case study about trees using bond rating data. This is a dataset about bond ratings for different companies, alongside a bunch of business statistics and other data. Companies often have multiple reviews at different dates. We want to predict the bond rating (AAA, AA, A, BBB, BB, B, ..., C, D). Do business fundamentals predict the company's rating?\n",
    "\n",
    "1. Load the `./data/corporate_ratings.csv` dataset. How many observations and variables does it contain? Print out the first few rows of data.\n",
    "\n",
    "2.  Plot a histogram of the `ratings` variable. It turns out that the gradations of AAA/AA/A and BBB/BB/B and so on make it hard to get good results with trees. Collapse all AAA/AA/A ratings into just A, and similarly for B and C.\n",
    "\n",
    "3. Use all of the variables **except** Rating, Date, Name, Symbol, and Rating Agency Name. To include Sector, make a dummy/one-hot-encoded representation and include it in your features/covariates. Collect the relevant variables into a data matrix $X$. \n",
    "\n",
    "4. Do a train/test split of the data and use a decision tree classifier to predict the bond rating. Including a min_samples_leaf constraint can raise the accuracy and speed up computation time. Print a confusion matrix and the accuracy of your model. How well do you predict the different bond ratings?\n",
    "\n",
    "5. If you include the rating agency as a feature/covariate/predictor variable, do the results change? How do you interpret this?"
   ]
  },
  {
   "cell_type": "markdown",
   "metadata": {},
   "source": [
    "**Q5.** This is a case study about detecting fraud using classification trees. The goal is to predict the `class` variable, which is 0 for non-fraud and 1 for fraud.\n",
    "\n",
    "1. Open `./data/creditcard_fraud.csv`. Print the number of observations and variables, and look at the first few rows of data. The variables are already normalized and de-identified, and are just called things like `V8` to protect the privacy of the clients.\n",
    "\n",
    "2. Print a table of counts for the `class` variable and make a histogram. What percentage of transactions are fraudulent?\n",
    "\n",
    "3. Drop `Time` and make a decision tree classifier to predict fraud. Print a confusion table and compute the accuracy. This is a serious **class imbalance** problem: The minority class is so small that essentially predicting 0's for all cases will achieve an extremely high accuracy. There are over-sampling techniques to deal with this issue, but we don't have time to cover them in class.\n",
    "\n",
    "4. Imagine that you block every transaction in the test set labelled as fraudulent. How much money is (1) saved that should be saved, (2) lost to fraud anyway, (3) withheld in error from customers? Does implementing this anti-fraud system seem like a good idea, or not? Why?\n",
    "\n",
    "5. Instead of predicting fraud, predict loss: Multiple the `Class` variable times the `Amount` variable, and call it `Loss`. Predict it using a decision tree regressor (making sure to drop Class, Time, and Loss from the features/covariates/predictors). What $R^2$ and RMSE do you get? Make a scatterplot of the predicted values on the test group versus the actual test values. Do you notice any interesting patterns? How could you use this algorithm to decide which transactions to block, and why?\n"
   ]
  },
  {
   "cell_type": "markdown",
   "metadata": {
    "vscode": {
     "languageId": "plaintext"
    }
   },
   "source": [
    "**Q6.** Show that any decision tree is equivalent to a linear regression on a set of dummy variables that represent the optimal splits in the tree. \n",
    "\n",
    "Hint: You can think of CART as partitioning the feature space into a set of sets $\\{S_1, S_2, ..., S_K\\}$, and then predicting the average for all of the observations in each set $S_k$, $m_k$:\n",
    "$$\n",
    "\\hat{y}(x) = \\sum_{k=1}^K \\mathbb{I}\\{ x \\text{ is in } S_k \\} m_k\n",
    "$$\n",
    "where $\\mathbb{I} \\{ P(x,k)\\}$ takes the value 1 if the proposition $P(x,k)$ is true and 0 otherwise. Now, doesn't that look like least-squares regression on a set of dummy/one-hot-encoded variables?\n",
    "\n",
    "Conversely, can any linear regression be represented by a tree?"
   ]
  }
 ],
 "metadata": {
  "kernelspec": {
   "display_name": "venv",
   "language": "python",
   "name": "python3"
  },
  "language_info": {
   "codemirror_mode": {
    "name": "ipython",
    "version": 3
   },
   "file_extension": ".py",
   "mimetype": "text/x-python",
   "name": "python",
   "nbconvert_exporter": "python",
   "pygments_lexer": "ipython3",
   "version": "3.13.2"
  }
 },
 "nbformat": 4,
 "nbformat_minor": 2
}
